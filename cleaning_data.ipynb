{
 "cells": [
  {
   "cell_type": "code",
   "execution_count": 9,
   "id": "b084a45b",
   "metadata": {},
   "outputs": [
    {
     "data": {
      "text/plain": [
       "Student ID       0\n",
       "student_name     0\n",
       "gender           0\n",
       "grade            0\n",
       "reading_score    1\n",
       "math_score       1\n",
       "dtype: int64"
      ]
     },
     "execution_count": 9,
     "metadata": {},
     "output_type": "execute_result"
    }
   ],
   "source": [
    "# add dependencies\n",
    "import pandas as pd\n",
    "import os\n",
    "\n",
    "# path to file needed\n",
    "file_to_load = \"Resources/missing_grades.csv\"\n",
    "\n",
    "# read the file\n",
    "missing_grade_df = pd.read_csv(file_to_load)\n",
    "\n",
    "# # check how many missing values you  have\n",
    "# missing_grade_df.isnull().sum()\n",
    "\n",
    "# # drop the missing grade\n",
    "# missing_grade_df.dropna()\n",
    "\n",
    "# # drop the missing grade and fill in with an 85\n",
    "# missing_grade_df.fillna(85)\n",
    "\n",
    "# determine data types for the school Data Frame\n"
   ]
  },
  {
   "cell_type": "code",
   "execution_count": null,
   "id": "9736da93",
   "metadata": {},
   "outputs": [],
   "source": []
  }
 ],
 "metadata": {
  "kernelspec": {
   "display_name": "PythonData",
   "language": "python",
   "name": "pythondata"
  },
  "language_info": {
   "codemirror_mode": {
    "name": "ipython",
    "version": 3
   },
   "file_extension": ".py",
   "mimetype": "text/x-python",
   "name": "python",
   "nbconvert_exporter": "python",
   "pygments_lexer": "ipython3",
   "version": "3.7.11"
  }
 },
 "nbformat": 4,
 "nbformat_minor": 5
}
